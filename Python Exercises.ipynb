{
 "cells": [
  {
   "cell_type": "markdown",
   "metadata": {},
   "source": [
    "# Question 1\n",
    "\n",
    "Write a python function that returns $2\\sin(x^2) + \\ln(|x|) + 1$ for a given real number $x$."
   ]
  },
  {
   "cell_type": "code",
   "execution_count": 3,
   "metadata": {},
   "outputs": [
    {
     "data": {
      "text/plain": [
       "1.81048772778976"
      ]
     },
     "execution_count": 3,
     "metadata": {},
     "output_type": "execute_result"
    }
   ],
   "source": [
    "import math\n",
    "def fn(x):\n",
    "    y=2*math.sin(x**2)+math.log(abs(x))+1\n",
    "    return y\n",
    "fn(4)"
   ]
  },
  {
   "cell_type": "markdown",
   "metadata": {},
   "source": [
    "# Question 2\n",
    "\n",
    "Write a python function that takes\n",
    "\n",
    "* A function `f(x)`\n",
    "* A pair of real numbers `(a,b)`\n",
    "* An integer `N`\n",
    "\n",
    "as input and returns the Riemann sum of `f(x)` on the interval `[a,b]` with `N` equal subdivisions."
   ]
  },
  {
   "cell_type": "code",
   "execution_count": 4,
   "metadata": {
    "scrolled": true
   },
   "outputs": [
    {
     "data": {
      "text/plain": [
       "0.20367079825171153"
      ]
     },
     "execution_count": 4,
     "metadata": {},
     "output_type": "execute_result"
    }
   ],
   "source": [
    "import math\n",
    "from numpy import linspace\n",
    "from numpy import vectorize\n",
    "from numpy import sum\n",
    "def riemann(func,interval,N):\n",
    "    a,b=interval\n",
    "    xspace=linspace(a,b,N)\n",
    "    dx=(b-a)/N\n",
    "    fv = vectorize(func)\n",
    "    total=fv(xspace)*dx\n",
    "    return sum(total)\n",
    "riemann(math.sin,(1,5),10)"
   ]
  },
  {
   "cell_type": "markdown",
   "metadata": {},
   "source": [
    "# Question 3\n",
    "\n",
    "* Pull 100 uniformly random numbers from the interval $[0,1]$ as an array `xs`.\n",
    "* Add 0 at the beginning of the array, and 1.0 at the end.\n",
    "* Sort the array `xs` from smallest to the largest.\n",
    "* Calculate its discrete derivative `ys`, i.e. let $y_i = x_{i+1} - x_i$"
   ]
  },
  {
   "cell_type": "code",
   "execution_count": 17,
   "metadata": {},
   "outputs": [
    {
     "name": "stdout",
     "output_type": "stream",
     "text": [
      "[2.38667823e-02 4.38281445e-03 5.89073069e-03 4.01238572e-03\n",
      " 1.24634063e-02 2.10106123e-03 9.73617824e-04 1.91258655e-02\n",
      " 2.92885946e-02 3.49645147e-03 1.54389505e-02 1.25933901e-02\n",
      " 2.54733305e-04 4.75880687e-03 1.70920191e-04 1.23479332e-02\n",
      " 2.30842645e-02 7.02261637e-03 1.46065636e-05 2.31362219e-03\n",
      " 6.11163872e-03 8.60013144e-03 3.21886619e-02 5.92606761e-04\n",
      " 8.58050400e-03 9.41557372e-03 3.14074737e-03 1.80603637e-03\n",
      " 2.79406961e-02 1.94816200e-04 1.29001774e-02 2.06440690e-03\n",
      " 2.05286066e-03 1.88554359e-03 1.36955838e-02 8.13675570e-03\n",
      " 2.58813990e-03 2.28513931e-02 5.50049235e-03 2.70112420e-02\n",
      " 1.04896226e-02 1.37878009e-03 1.63942060e-03 1.70046334e-03\n",
      " 7.49574170e-05 1.66289588e-03 1.28312849e-02 4.65779719e-03\n",
      " 4.37512859e-03 5.00725456e-03 3.11705020e-02 5.03588043e-03\n",
      " 5.13234460e-03 1.82811581e-02 1.25079359e-02 3.32931980e-03\n",
      " 3.42514268e-02 2.32814420e-03 1.17129045e-02 2.00918817e-02\n",
      " 1.07067364e-03 2.68188616e-02 1.49964546e-03 9.54474860e-03\n",
      " 2.10643361e-02 5.53367850e-03 4.31953031e-04 1.45342168e-02\n",
      " 1.76490401e-02 3.56029443e-04 3.77751801e-03 2.45649665e-02\n",
      " 1.54058938e-03 3.18429213e-02 2.79171029e-02 2.06019718e-03\n",
      " 1.79347718e-03 4.98398147e-04 2.84118797e-02 5.63253300e-03\n",
      " 6.56320162e-03 3.05033292e-04 2.75259650e-03 8.14002610e-03\n",
      " 1.57603051e-02 1.21052484e-03 2.38416540e-03 1.77198417e-03\n",
      " 2.01030360e-02 7.80071158e-03 1.05055841e-02 2.80453178e-02\n",
      " 8.95196061e-03 2.01183697e-02 2.08688774e-02 2.92678412e-02\n",
      " 4.90902819e-03 3.47508531e-03 4.84882011e-03 4.59272992e-03\n",
      " 2.56336949e-03]\n"
     ]
    }
   ],
   "source": [
    "import numpy as np\n",
    "xs=np.random.uniform(0,1,100)\n",
    "xs=np.append(xs,[1.0, 0.0])\n",
    "xs=np.sort(xs)\n",
    "ys=np.diff(xs)\n",
    "print(ys)"
   ]
  },
  {
   "cell_type": "code",
   "execution_count": 19,
   "metadata": {},
   "outputs": [
    {
     "name": "stdout",
     "output_type": "stream",
     "text": [
      "[0.00469548 0.01409432 0.00131775 0.00011085 0.01896939 0.02103768\n",
      " 0.00392202 0.00688856 0.01609324 0.00681121 0.0021579  0.00100287\n",
      " 0.00494353 0.00833033 0.00789928 0.00045329 0.00146884 0.00872974\n",
      " 0.00287156 0.00638509 0.00517034 0.0156163  0.00233993 0.02188184\n",
      " 0.013391   0.01229439 0.0015058  0.03404303 0.00886601 0.01126401\n",
      " 0.00083388 0.01741747 0.00659913 0.0067341  0.01928815 0.00255483\n",
      " 0.00058577 0.04093895 0.00420287 0.0050144  0.01471635 0.03082148\n",
      " 0.00039895 0.00899286 0.01337715 0.00055526 0.0010143  0.01754882\n",
      " 0.00532903 0.00483141 0.00234043 0.05319712 0.00139973 0.00564687\n",
      " 0.01598826 0.00393032 0.01778795 0.00144311 0.00038939 0.00176282\n",
      " 0.00574973 0.01056644 0.01625044 0.00208214 0.0072502  0.00483827\n",
      " 0.0007015  0.02228552 0.00597309 0.00721421 0.00322126 0.01043713\n",
      " 0.00064366 0.00322749 0.01118243 0.01065182 0.00515908 0.01755817\n",
      " 0.00113784 0.02293638 0.03497011 0.00392306 0.00237243 0.01119586\n",
      " 0.00743353 0.02183467 0.0079468  0.00367982 0.00532506 0.03206724\n",
      " 0.02176085 0.03382364 0.00369956 0.01445188 0.00092084 0.01899384\n",
      " 0.0127967  0.00030162 0.00185725 0.0097555  0.01162616]\n"
     ]
    }
   ],
   "source": [
    "import numpy as np\n",
    "xs=np.random.uniform(0,1,100)\n",
    "xs=np.append(xs,[1.0, 0.0])\n",
    "xs=np.sort(xs)\n",
    "ys=np.array([])\n",
    "for i in range(101):\n",
    "    ys=np.append(ys,np.array([xs[i+1]-xs[i]]))\n",
    "print(ys)"
   ]
  },
  {
   "cell_type": "markdown",
   "metadata": {},
   "source": [
    "# Question 4\n",
    "\n",
    "* Pull 100 uniformly random numbers from the interval $[0,1]$ into an array `xs`.\n",
    "* Pull 100 random numbers from the Gaussion distribution with $\\mu=0$ and $\\sigma=1.0$ into an array `ys`.\n",
    "* Scatter plot `xs` against `ys` using `matplotlib`\n"
   ]
  },
  {
   "cell_type": "code",
   "execution_count": 14,
   "metadata": {},
   "outputs": [
    {
     "data": {
      "image/png": "[encoded data removed]",
      "text/plain": [
       "<Figure size 432x288 with 1 Axes>"
      ]
     },
     "metadata": {
      "needs_background": "light"
     },
     "output_type": "display_data"
    }
   ],
   "source": [
    "import numpy as np\n",
    "import matplotlib.pyplot as plt\n",
    "\n",
    "xs=np.random.uniform(0,1,100)\n",
    "ys=np.random.normal(0,1,100)\n",
    "plt.scatter(xs,ys)\n",
    "plt.show()"
   ]
  },
  {
   "cell_type": "markdown",
   "metadata": {},
   "source": [
    "# Question 5\n",
    "\n",
    "Using the `numpy` library\n",
    "\n",
    "* Pull a random $100\\times 100$ matrix\n",
    "* Calculate its 100-th power\n",
    "* Calculate its eigen-values\n",
    "* Calculate is [Singular Value Decomposition](https://numpy.org/doc/stable/reference/generated/numpy.linalg.svd.html)"
   ]
  },
  {
   "cell_type": "code",
   "execution_count": 20,
   "metadata": {},
   "outputs": [],
   "source": [
    "import numpy as np\n",
    "mx=np.random.rand(100,100)\n",
    "mx=np.linalg.matrix_power(mx,100)\n",
    "eigenv=np.linalg.eigvals(mx)\n",
    "u,s,vh=np.linalg.svd(mx)"
   ]
  },
  {
   "cell_type": "markdown",
   "metadata": {},
   "source": [
    "# Question 6\n",
    "\n",
    "* Pull the text of a novel by Dickens from the website of [Gutenberg Project](https://www.gutenberg.org/)\n",
    "* Remove all non-alphanumeric characters \n",
    "* Split the text into words and convert them into lower case\n",
    "* Count the number of distinct words in the  text\n",
    "* Count how many times each word occurs within the text"
   ]
  },
  {
   "cell_type": "code",
   "execution_count": 3,
   "metadata": {
    "scrolled": true
   },
   "outputs": [
    {
     "name": "stdout",
     "output_type": "stream",
     "text": [
      "Number of distinct words: 10072\n",
      "[('the', 9558), ('and', 5362), ('to', 3926), ('of', 3811), ('a', 3723), ('he', 2494), ('in', 2364), ('his', 2331), ('that', 1952), ('it', 1879), ('i', 1870), ('was', 1782), ('you', 1761), ('with', 1556), ('as', 1322), ('said', 1232), ('had', 1223), ('s', 1185), ('for', 1151), ('him', 1066), ('mr', 1062), ('at', 987), ('on', 935), ('which', 865), ('oliver', 827), ('this', 796), ('not', 788), ('her', 787), ('by', 774), ('be', 770), ('have', 762), ('they', 725), ('but', 723), ('is', 716), ('t', 667), ('from', 629), ('all', 611), ('if', 604), ('me', 601), ('so', 597), ('she', 592), ('no', 585), ('there', 568), ('were', 553), ('what', 546), ('who', 522), ('my', 511), ('up', 502), ('or', 498), ('when', 492)]\n"
     ]
    }
   ],
   "source": [
    "import bs4\n",
    "import requests\n",
    "import re\n",
    "\n",
    "res= requests.get('https://www.gutenberg.org/files/730/730-h/730-h.htm')\n",
    "soup=bs4.BeautifulSoup(res.text,'html.parser')\n",
    "novellist=soup.select(\"p\")\n",
    "novelstring=''\n",
    "for p in novellist:\n",
    "    novelstring=p.text.strip()+novelstring\n",
    "novelstring=re.sub(r\"[^a-zA-Z\\d\\s]\", ' ', novelstring).lower()\n",
    "words=novelstring.split()\n",
    "\n",
    "d = {}\n",
    "for key in words: \n",
    "    d[key] = d.get(key, 0) + 1\n",
    "sort = sorted(d.items(), key = lambda kv: kv[1],reverse=True)#order by second element of each tupple\n",
    "print(\"Number of distinct words:\",len(sort))\n",
    "print(sort[:50])"
   ]
  },
  {
   "cell_type": "markdown",
   "metadata": {},
   "source": [
    "# Question 7\n",
    "\n",
    "* Write a python function `CountWords` that takes the URL for a text and returns the number of unique words within the text.\n",
    "* Write a python function `Top20Words` that takes the URL for a text and returns the most frequently appearing top 20 words within the text."
   ]
  },
  {
   "cell_type": "code",
   "execution_count": 9,
   "metadata": {},
   "outputs": [
    {
     "data": {
      "text/plain": [
       "10071"
      ]
     },
     "execution_count": 9,
     "metadata": {},
     "output_type": "execute_result"
    }
   ],
   "source": [
    "import bs4\n",
    "import requests\n",
    "import re\n",
    "from nltk.corpus import stopwords\n",
    "sw=stopwords.words('english')\n",
    "def CountWords(url):\n",
    "    res= requests.get(\"https://www.gutenberg.org/files/730/730-h/730-h.htm\")\n",
    "    soup=bs4.BeautifulSoup(res.text,'html.parser')\n",
    "    novellist=soup.select(\"p\")\n",
    "    novellist=[paragraph.text.strip() for paragraph in novellist]\n",
    "    novelstring=\"\".join(novellist)\n",
    "    novelstring=re.sub(r\"[^a-zA-Z\\d\\s]\", ' ', novelstring).lower()\n",
    "    words=novelstring.split()\n",
    "    words_set=set(words)\n",
    "    return len(words_set)\n",
    "CountWords('https://www.gutenberg.org/files/730/730-h/730-h.htm')"
   ]
  },
  {
   "cell_type": "code",
   "execution_count": 19,
   "metadata": {
    "scrolled": true
   },
   "outputs": [
    {
     "data": {
      "text/plain": [
       "[('said', 1232),\n",
       " ('mr', 1062),\n",
       " ('oliver', 827),\n",
       " ('upon', 475),\n",
       " ('replied', 464),\n",
       " ('one', 455),\n",
       " ('old', 440),\n",
       " ('would', 412),\n",
       " ('man', 396),\n",
       " ('bumble', 393),\n",
       " ('sikes', 350),\n",
       " ('gentleman', 329),\n",
       " ('time', 325),\n",
       " ('jew', 319),\n",
       " ('boy', 314),\n",
       " ('fagin', 303),\n",
       " ('know', 297),\n",
       " ('young', 286),\n",
       " ('dear', 277)]"
      ]
     },
     "execution_count": 19,
     "metadata": {},
     "output_type": "execute_result"
    }
   ],
   "source": [
    "import bs4\n",
    "import requests\n",
    "import re\n",
    "from nltk.corpus import stopwords\n",
    "sw=stopwords.words('english')\n",
    "def Top20Words(url):\n",
    "    res= requests.get(\"https://www.gutenberg.org/files/730/730-h/730-h.htm\")\n",
    "    soup=bs4.BeautifulSoup(res.text,'html.parser')\n",
    "    novellist=soup.select(\"p\")\n",
    "    novellist=[paragraph.text.strip() for paragraph in novellist]\n",
    "    novelstring=\"\".join(novellist)\n",
    "    novelstring=re.sub(r\"[^a-zA-Z\\d\\s]\", ' ', novelstring).lower()\n",
    "    words=novelstring.split()\n",
    "    words=[word for word in words if word not in sw]\n",
    "    d = {}\n",
    "    for key in words: \n",
    "        d[key] = d.get(key, 0) + 1\n",
    "    sort = sorted(d.items(), key = lambda kv: kv[1],reverse=True)\n",
    "    return sort[:19]\n",
    "Top20Words('https://www.gutenberg.org/files/730/730-h/730-h.htm')"
   ]
  },
  {
   "cell_type": "markdown",
   "metadata": {},
   "source": [
    "# Question 8\n",
    "\n",
    "* Pull the [IMKB](https://archive.ics.uci.edu/ml/machine-learning-databases/00247/data_akbilgic.xlsx) data from UCI using pandas.\n",
    "* Plot the TL based ISE and USD based ISE columns together in the same graph.\n",
    "* Calculate how many times `NIKKEI` was higher than `FTSE`."
   ]
  },
  {
   "cell_type": "code",
   "execution_count": 21,
   "metadata": {
    "scrolled": false
   },
   "outputs": [
    {
     "data": {
      "image/png": "[encoded data removed]",
      "text/plain": [
       "<Figure size 432x288 with 1 Axes>"
      ]
     },
     "metadata": {
      "needs_background": "light"
     },
     "output_type": "display_data"
    },
    {
     "name": "stdout",
     "output_type": "stream",
     "text": [
      "NIKKEI was higher than FTSE 261 times\n"
     ]
    }
   ],
   "source": [
    "import matplotlib.pyplot as plt\n",
    "import pandas as pd\n",
    "df=pd.read_excel(\"https://archive.ics.uci.edu/ml/machine-learning-databases/00247/data_akbilgic.xlsx\",header=1)\n",
    "df.head()\n",
    "\n",
    "df.plot('date',['ISE','ISE.1'])\n",
    "plt.show()\n",
    "\n",
    "comparison=np.where(df[\"NIKKEI\"] > df[\"FTSE\"],1,0)\n",
    "\n",
    "print(\"NIKKEI was higher than FTSE\",sum(comparison),\"times\")"
   ]
  },
  {
   "cell_type": "markdown",
   "metadata": {},
   "source": [
    "# Question 9\n",
    "\n",
    "Using the [networkx](https://networkx.org/) library\n",
    "\n",
    "* Get the [adjacency matrix](https://en.wikipedia.org/wiki/Adjacency_matrix) of the [Peterson graph](https://en.wikipedia.org/wiki/Petersen_graph).\n",
    "* Calculate its eigen-values and eigen-vectors using the [numpy](https://numpy.org/) library.\n",
    "* Repeat the same for a [random 3-regular graph on 10 vertices](https://networkx.org/documentation/networkx-1.10/reference/generated/networkx.generators.random_graphs.random_regular_graph.html)."
   ]
  },
  {
   "cell_type": "code",
   "execution_count": 1,
   "metadata": {},
   "outputs": [],
   "source": [
    "import networkx as nx\n",
    "import numpy as np\n",
    "\n",
    "G=nx.petersen_graph()\n",
    "adj_mx=nx.convert_matrix.to_numpy_matrix(G)\n",
    "eigenval,eigenvec=np.linalg.eig(adj_mx)"
   ]
  },
  {
   "cell_type": "code",
   "execution_count": 2,
   "metadata": {},
   "outputs": [],
   "source": [
    "G2=nx.random_regular_graph(3,10)\n",
    "adj_mx2=nx.convert_matrix.to_numpy_matrix(G2)\n",
    "eigenval2,eigenvec2=np.linalg.eig(adj_mx2)"
   ]
  }
 ],
 "metadata": {
  "kernelspec": {
   "display_name": "Python 3",
   "language": "python",
   "name": "python3"
  },
  "language_info": {
   "codemirror_mode": {
    "name": "ipython",
    "version": 3
   },
   "file_extension": ".py",
   "mimetype": "text/x-python",
   "name": "python",
   "nbconvert_exporter": "python",
   "pygments_lexer": "ipython3",
   "version": "3.7.4"
  }
 },
 "nbformat": 4,
 "nbformat_minor": 4
}
